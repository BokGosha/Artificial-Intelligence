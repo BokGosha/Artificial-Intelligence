{
 "cells": [
  {
   "attachments": {},
   "cell_type": "markdown",
   "metadata": {},
   "source": [
    "1.3"
   ]
  },
  {
   "cell_type": "code",
   "execution_count": null,
   "metadata": {},
   "outputs": [],
   "source": [
    "import numpy as np\n",
    "from matplotlib import pyplot as plt\n",
    "from scipy.integrate import simps\n",
    "from numpy import trapz\n",
    "import yfinance as yf"
   ]
  },
  {
   "cell_type": "code",
   "execution_count": null,
   "metadata": {},
   "outputs": [],
   "source": [
    "x = 5 >= 2\n",
    "A = {1, 3, 7, 8, 5}\n",
    "B = {2, 4, 5, 10, 'apple'}\n",
    "C = A & B\n",
    "df = 'Антоновна Антонина', 34, 'ж'\n",
    "z = 'type'\n",
    "D = [1, 'title', 2, 'content']\n",
    "\n",
    "print(x, '|', type(x), '\\n', A, '|', type(A), '\\n', B, '|', type(B), '\\n', C, '|', type(C), '\\n', df, '|', type(df), '\\n', z, '|', type(z), '\\n', D, '|', type(D))"
   ]
  },
  {
   "attachments": {},
   "cell_type": "markdown",
   "metadata": {},
   "source": [
    "2.3"
   ]
  },
  {
   "cell_type": "code",
   "execution_count": null,
   "metadata": {},
   "outputs": [],
   "source": [
    "x = int(input())\n",
    "\n",
    "if x < -5:\n",
    "  print('(-infinity, -5)')\n",
    "elif x >= -5 and x <= 5:\n",
    "  print('[-5, 5]')\n",
    "else:\n",
    "  print('(5, +infinity)')"
   ]
  },
  {
   "attachments": {},
   "cell_type": "markdown",
   "metadata": {},
   "source": [
    "3.3.1"
   ]
  },
  {
   "cell_type": "code",
   "execution_count": null,
   "metadata": {},
   "outputs": [],
   "source": [
    "x = 10\n",
    "\n",
    "while x >= 1:\n",
    "  print(x)\n",
    "  x -= 3"
   ]
  },
  {
   "attachments": {},
   "cell_type": "markdown",
   "metadata": {},
   "source": [
    "3.3.2"
   ]
  },
  {
   "cell_type": "code",
   "execution_count": null,
   "metadata": {},
   "outputs": [],
   "source": [
    "x = ['цвет глаз', 'рост', 'цвет волос', 'размер стопы']\n",
    "\n",
    "for i in x:\n",
    "  print(i)"
   ]
  },
  {
   "attachments": {},
   "cell_type": "markdown",
   "metadata": {},
   "source": [
    "3.3.3"
   ]
  },
  {
   "cell_type": "code",
   "execution_count": null,
   "metadata": {},
   "outputs": [],
   "source": [
    "x = []\n",
    "\n",
    "for i in range(2, 16):\n",
    "  x.append(i)\n",
    "\n",
    "print(x)"
   ]
  },
  {
   "attachments": {},
   "cell_type": "markdown",
   "metadata": {},
   "source": [
    "3.3.4"
   ]
  },
  {
   "cell_type": "code",
   "execution_count": null,
   "metadata": {},
   "outputs": [],
   "source": [
    "for i in range(105, 4, -25):\n",
    "  print(i)"
   ]
  },
  {
   "attachments": {},
   "cell_type": "markdown",
   "metadata": {},
   "source": [
    "3.3.5"
   ]
  },
  {
   "cell_type": "code",
   "execution_count": null,
   "metadata": {},
   "outputs": [],
   "source": [
    "x = [0, 1, 2, 3, 4, 5, 6, 7, 8, 9]\n",
    "\n",
    "x = [x[-2 - i] if i % 2 == 0 else x[i] for i in range(len(x))]\n",
    "\n",
    "print(x)"
   ]
  },
  {
   "attachments": {},
   "cell_type": "markdown",
   "metadata": {},
   "source": [
    "4.3.1"
   ]
  },
  {
   "cell_type": "code",
   "execution_count": null,
   "metadata": {},
   "outputs": [],
   "source": [
    "x = np.random.sample(10)\n",
    "s = [s for s in range(10)]\n",
    "\n",
    "a = np.average(x)\n",
    "b = np.median(x)\n",
    "\n",
    "print('Среднее значение', a)\n",
    "print('Медианное значение', b)\n",
    "\n",
    "if a > b:\n",
    "  print('Среднее значение больше медианного')\n",
    "elif a == b:\n",
    "  print('Среднее значение равно медианному')\n",
    "else:\n",
    "  print('Медианное значение больше среднего')\n",
    "\n",
    "plt.scatter(s, x)\n",
    "plt.show()"
   ]
  },
  {
   "attachments": {},
   "cell_type": "markdown",
   "metadata": {},
   "source": [
    "4.3.2"
   ]
  },
  {
   "cell_type": "code",
   "execution_count": null,
   "metadata": {},
   "outputs": [],
   "source": [
    "x = np.arange(1, 10)\n",
    "y = np.sqrt((1 + np.e ** np.sqrt(x) + np.cos(x ** 2)) / (np.absolute(1 - np.sin(x) ** 3)) + np.log(np.absolute(2 * x)))\n",
    "\n",
    "plt.plot(x, y)\n",
    "plt.show()\n",
    "\n",
    "xh = x[:len(x) // 2]\n",
    "yh = np.sqrt((1 + np.e ** np.sqrt(xh) + np.cos(xh ** 2)) / (np.absolute(1 - np.sin(xh) ** 3)) + np.log(np.absolute(2 * xh)))\n",
    "\n",
    "plt.scatter(xh, yh)\n",
    "plt.show()"
   ]
  },
  {
   "attachments": {},
   "cell_type": "markdown",
   "metadata": {},
   "source": [
    "4.3.3"
   ]
  },
  {
   "cell_type": "code",
   "execution_count": null,
   "metadata": {},
   "outputs": [],
   "source": [
    "x = np.arange(1, 10)\n",
    "y = np.absolute(np.cos(x * (np.e ** (np.cos(x) + np.log(x + 1)))))\n",
    "\n",
    "plt.scatter(x, y)\n",
    "plt.fill_between(x, y, color = 'blue')\n",
    "print('Площадь', trapz(y))\n",
    "plt.show()"
   ]
  },
  {
   "attachments": {},
   "cell_type": "markdown",
   "metadata": {},
   "source": [
    "4.3.4"
   ]
  },
  {
   "cell_type": "code",
   "execution_count": null,
   "metadata": {},
   "outputs": [],
   "source": [
    "apple = yf.download('AAPL', '2021-01-01', '2021-12-31')\n",
    "plt.plot(apple['Open'], color = 'green')\n",
    "\n",
    "microsoft = yf.download('MSFT', '2021-01-01', '2021-12-31')\n",
    "plt.plot(microsoft['Open'], color = 'red')\n",
    "\n",
    "google = yf.download('GOOG', '2021-01-01', '2021-12-31')\n",
    "plt.plot(google['Open'], color = 'blue')\n",
    "\n",
    "plt.show()"
   ]
  },
  {
   "attachments": {},
   "cell_type": "markdown",
   "metadata": {},
   "source": [
    "4.3.5"
   ]
  },
  {
   "cell_type": "code",
   "execution_count": null,
   "metadata": {},
   "outputs": [],
   "source": [
    "x = int(input())\n",
    "y = int(input())\n",
    "\n",
    "print('Введите номер операции: \\n1 - сложение (+) \\n2 - вычитание (-) \\n3 - умножение (*) \\n4 - деление (/) \\n5 - e ** (x + y) (e в степени суммы x и y) \\n6 - sin(x + y) (синус суммы x и y) \\n7 - cos(x + y) (косинус суммы x и y) \\n8 - x ** y (x в степени y)')\n",
    "\n",
    "vibor = int(input())\n",
    "\n",
    "print('Ответ:', end = ' ')\n",
    "\n",
    "if vibor == 1:\n",
    "  print(x + y)\n",
    "elif vibor == 2:\n",
    "  print(x - y)\n",
    "elif vibor == 3:\n",
    "  print(x * y)\n",
    "elif vibor == 4:\n",
    "  if y != 0:\n",
    "    print(x / y)\n",
    "  else:\n",
    "    print('Ошибка: на ноль делить нельзя')\n",
    "elif vibor == 5:\n",
    "  print(np.e ** (x + y))\n",
    "elif vibor == 6:\n",
    "  print(np.sin(x + y))\n",
    "elif vibor == 7:\n",
    "  print(np.cos(x + y))\n",
    "else:\n",
    "  print(x ** y)\n"
   ]
  }
 ],
 "metadata": {
  "kernelspec": {
   "display_name": "Python 3",
   "language": "python",
   "name": "python3"
  },
  "language_info": {
   "codemirror_mode": {
    "name": "ipython",
    "version": 3
   },
   "file_extension": ".py",
   "mimetype": "text/x-python",
   "name": "python",
   "nbconvert_exporter": "python",
   "pygments_lexer": "ipython3",
   "version": "3.11.2"
  },
  "orig_nbformat": 4,
  "vscode": {
   "interpreter": {
    "hash": "8b3424640b024d7c772b21f95b266b3dcac58ebbdc4a7b56b4c4d43b35939d7f"
   }
  }
 },
 "nbformat": 4,
 "nbformat_minor": 2
}
