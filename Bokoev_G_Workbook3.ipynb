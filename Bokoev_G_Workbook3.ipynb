{
 "cells": [
  {
   "cell_type": "code",
   "execution_count": null,
   "metadata": {},
   "outputs": [],
   "source": [
    "import matplotlib.pyplot as plt\n",
    "from mpl_toolkits.mplot3d import Axes3D\n",
    "import numpy as np\n",
    "from itertools import combinations\n",
    "import seaborn as sns\n",
    "from sklearn.model_selection import train_test_split\n",
    "from sklearn.neighbors import KNeighborsClassifier\n",
    "from sklearn.metrics import accuracy_score\n",
    "from sklearn.feature_extraction import DictVectorizer"
   ]
  },
  {
   "attachments": {},
   "cell_type": "markdown",
   "metadata": {},
   "source": [
    "1.3.1"
   ]
  },
  {
   "cell_type": "code",
   "execution_count": null,
   "metadata": {},
   "outputs": [],
   "source": [
    "flg = plt.figure()\n",
    "ax = flg.add_subplot(111, projection = '3d')\n",
    "\n",
    "for i in range(4):\n",
    "    ax.scatter(i, i, i)\n",
    "plt.show()\n",
    "\n",
    "x = []\n",
    "for i in range(4):\n",
    "    x.append(np.array([i, i, i]))\n",
    "\n",
    "a = [i for i in combinations(x, 2)]\n",
    "\n",
    "for i in a:\n",
    "    print(f'Евклидово расстояние между точками {i[0]} и {i[1]} равно', np.linalg.norm(i[1] - i[0]))\n",
    "    print(f'Квадрат Евклидова расстояния между точками {i[0]} и {i[1]} равно', np.linalg.norm(i[1] - i[0]) ** 2)\n",
    "    print(f'Расстояние Чебышева между точками {i[0]} и {i[1]} равно', np.linalg.norm(i[1] - i[0], ord = np.inf))\n",
    "    print(f'Расстояние Хемминга между точками {i[0]} и {i[1]} равно', np.linalg.norm(i[1] - i[0], ord = 1))"
   ]
  },
  {
   "attachments": {},
   "cell_type": "markdown",
   "metadata": {},
   "source": [
    "2.3.1"
   ]
  },
  {
   "cell_type": "code",
   "execution_count": null,
   "metadata": {},
   "outputs": [],
   "source": [
    "iris = sns.load_dataset('iris')\n",
    "\n",
    "print(iris.head(10))\n",
    "\n",
    "plt.figure(figsize = (16, 7))\n",
    "\n",
    "plt.subplot(121)\n",
    "sns.scatterplot(data = iris, x = 'petal_width', y = 'petal_length', hue = 'species', s = 70)\n",
    "plt.ylabel('Длина лепестка, см')\n",
    "plt.xlabel('Ширина лепестка, см')\n",
    "plt.legend()\n",
    "plt.grid()\n",
    "\n",
    "plt.subplot(122)\n",
    "sns.scatterplot(data = iris, x = 'sepal_width', y = 'sepal_length', hue = 'species', s = 70)\n",
    "plt.ylabel('Длина чашелистика, см')\n",
    "plt.xlabel('Ширина чашелистика, см')\n",
    "plt.legend()\n",
    "plt.grid()\n",
    "\n",
    "X_train, X_test, y_train, y_test = train_test_split(iris.iloc[:, :-1], iris.iloc[:, -1], test_size = 0.15)\n",
    "\n",
    "print(X_train.shape, X_test.shape, y_train.shape, y_test.shape)\n",
    "print(X_train.head())\n",
    "print(y_train.head())\n",
    "\n",
    "model = KNeighborsClassifier(n_neighbors = 10)\n",
    "model.fit(X_train, y_train)\n",
    "\n",
    "y_pred = model.predict(X_test)\n",
    "\n",
    "print(y_pred)\n",
    "\n",
    "plt.figure(figsize = (10, 7))\n",
    "sns.scatterplot(data = iris, x = 'petal_width', y = 'petal_length', hue = 'species', s = 70)\n",
    "plt.ylabel('Длина лепестка, см')\n",
    "plt.xlabel('Ширина лепестка, см')\n",
    "plt.legend(loc = 2)\n",
    "plt.grid()\n",
    "\n",
    "for i in range(len(y_test)):\n",
    "    if np.array(y_test)[i] != y_pred[i]:\n",
    "        plt.scatter(X_test.iloc[i, 3], X_test.iloc[i, 2], color = 'red', s = 150)\n",
    "    \n",
    "print(f'accuary: {accuracy_score(y_test, y_pred) :.3}')"
   ]
  },
  {
   "attachments": {},
   "cell_type": "markdown",
   "metadata": {},
   "source": [
    "3.3.2"
   ]
  },
  {
   "cell_type": "code",
   "execution_count": null,
   "metadata": {},
   "outputs": [],
   "source": [
    "data_dict = [{'карие': 4, 'зелёные': 3},\n",
    "             {'карие': 5, 'серые': 2},\n",
    "             {'серые': 1, 'зелёные': 6}]\n",
    "\n",
    "dictvectorizer = DictVectorizer(sparse = False)\n",
    "\n",
    "features = dictvectorizer.fit_transform(data_dict)\n",
    "\n",
    "print(features)"
   ]
  }
 ],
 "metadata": {
  "kernelspec": {
   "display_name": "Python 3",
   "language": "python",
   "name": "python3"
  },
  "language_info": {
   "codemirror_mode": {
    "name": "ipython",
    "version": 3
   },
   "file_extension": ".py",
   "mimetype": "text/x-python",
   "name": "python",
   "nbconvert_exporter": "python",
   "pygments_lexer": "ipython3",
   "version": "3.11.2"
  },
  "orig_nbformat": 4,
  "vscode": {
   "interpreter": {
    "hash": "8b3424640b024d7c772b21f95b266b3dcac58ebbdc4a7b56b4c4d43b35939d7f"
   }
  }
 },
 "nbformat": 4,
 "nbformat_minor": 2
}
