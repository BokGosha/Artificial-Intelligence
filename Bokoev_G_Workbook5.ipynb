{
 "cells": [
  {
   "cell_type": "code",
   "execution_count": null,
   "metadata": {},
   "outputs": [],
   "source": [
    "import math as m\n",
    "import numpy as np\n",
    "from sklearn.tree import DecisionTreeClassifier\n",
    "from sklearn.tree import DecisionTreeRegressor\n",
    "from sklearn.metrics import classification_report, confusion_matrix\n",
    "from sklearn import tree\n",
    "from sklearn import metrics\n",
    "from sklearn.model_selection import train_test_split\n",
    "import pandas as pd\n",
    "import matplotlib as plt"
   ]
  },
  {
   "attachments": {},
   "cell_type": "markdown",
   "metadata": {},
   "source": [
    "1.2.3"
   ]
  },
  {
   "cell_type": "code",
   "execution_count": null,
   "metadata": {},
   "outputs": [],
   "source": [
    "class Trigonometric:\n",
    "    def cos(x):\n",
    "        return m.cos(x)\n",
    "    \n",
    "    def sin(x):\n",
    "        return m.sin(x)\n",
    "        \n",
    "    def tan(x):\n",
    "        return m.sin(x) / m.cos(x)\n",
    "    \n",
    "    def acos(x):\n",
    "        return m.acos(x)\n",
    "        \n",
    "    def asin(x):\n",
    "        return m.atan(x)\n",
    "        \n",
    "    def cos(x):\n",
    "        return m.cos(x)\n",
    "        \n",
    "    def degree_to_rad(x):\n",
    "        return m.radians(x)\n",
    "    \n",
    "x = Trigonometric.degree_to_rad(60)\n",
    "\n",
    "print(x)\n",
    "\n",
    "print(Trigonometric.cos(x))"
   ]
  },
  {
   "attachments": {},
   "cell_type": "markdown",
   "metadata": {},
   "source": [
    "1.2.1"
   ]
  },
  {
   "cell_type": "code",
   "execution_count": null,
   "metadata": {},
   "outputs": [],
   "source": [
    "a = []\n",
    "b = []\n",
    "c = []\n",
    "d = []\n",
    "e = []\n",
    "f = []\n",
    "for x in range(10):\n",
    "    d.append(x)\n",
    "    e.append(x)\n",
    "    f.append(x)\n",
    "b.append(d)\n",
    "b.append(e)\n",
    "c.append(f)\n",
    "a.append(b)\n",
    "a.append(c)\n",
    "\n",
    "print(a)"
   ]
  },
  {
   "attachments": {},
   "cell_type": "markdown",
   "metadata": {},
   "source": [
    "1.2.2"
   ]
  },
  {
   "cell_type": "code",
   "execution_count": null,
   "metadata": {},
   "outputs": [],
   "source": [
    "\n",
    "class Tree: \n",
    "    def __init__(self, data): \n",
    "        self.left=None \n",
    "        self.right=None \n",
    "        self.data=data \n",
    "    def PrintTree(self): \n",
    "        if self.left!=None: \n",
    "            self.left.PrintTree() \n",
    "        print(self.data) \n",
    "        if self.right!=None: \n",
    "            self.right.PrintTree() \n",
    " \n",
    "    def Add(self, val): \n",
    "        if val<self.data: \n",
    "            if self.left==None: \n",
    "                self.left=Tree(val) \n",
    "            else: \n",
    "                self.left.Add(val) \n",
    "        elif val>self.data: \n",
    "            if self.right==None: \n",
    "                self.right=Tree(val) \n",
    "            else: \n",
    "                self.right.Add(val) \n",
    "             \n",
    "tr=Tree(10) \n",
    "tr.Add(7) \n",
    "tr.Add(5) \n",
    "tr.Add(8) \n",
    "tr.Add(9) \n",
    "tr.Add(15) \n",
    "tr.Add(16) \n",
    "tr.Add(17) \n",
    "tr.Add(14) \n",
    "tr.Add(13) \n",
    "tr.PrintTree()"
   ]
  },
  {
   "attachments": {},
   "cell_type": "markdown",
   "metadata": {},
   "source": [
    "1.3.1"
   ]
  },
  {
   "cell_type": "code",
   "execution_count": null,
   "metadata": {},
   "outputs": [],
   "source": [
    "X = np.array([[-1, -1], [-2, -1], [-3, -2], [1, 1], [2, 1], [3, 2]])\n",
    "target = [0, 0, 0, 1, 1, 1]\n",
    "\n",
    "print(X.shape)\n",
    "\n",
    "classifier = DecisionTreeClassifier()\n",
    "classifier.fit(X,target)\n",
    "\n",
    "tree.plot_tree(classifier)\n",
    "\n",
    "y_pred = classifier.predict(X)\n",
    "\n",
    "print(confusion_matrix(y_pred, target))\n",
    "print(classification_report(y_pred, target))"
   ]
  },
  {
   "attachments": {},
   "cell_type": "markdown",
   "metadata": {},
   "source": [
    "1.4.1"
   ]
  },
  {
   "cell_type": "code",
   "execution_count": null,
   "metadata": {},
   "outputs": [],
   "source": [
    "url='https://raw.githubusercontent.com/likarajo/petrol_consumption/master/data/petrol_consumption.csv'\n",
    "dataframe = pd.read_csv(url)\n",
    "\n",
    "print(dataframe.head())\n",
    "print(dataframe.shape)\n",
    "print(dataframe.describe())\n",
    "\n",
    "dataframe.plot(x = \"Petrol_tax\", y = ['Paved_Highways', 'Petrol_Consumption', 'Population_Driver_licence(%)'], kind = \"bar\")\n",
    "\n",
    "\n",
    "X = dataframe[['Average_income', 'Population_Driver_licence(%)', 'Petrol_Consumption']]\n",
    "y = dataframe['Petrol_tax']\n",
    "\n",
    "print(X)\n",
    "print(y)\n",
    "\n",
    "X_train, X_test, y_train, y_test = train_test_split(X, y, test_size = 0.2, random_state = 0)\n",
    "\n",
    "regressor = DecisionTreeRegressor()\n",
    "regressor.fit(X_train, y_train)\n",
    "\n",
    "tree.plot_tree(regressor)\n",
    "\n",
    "y_pred = regressor.predict(X_test)\n",
    "df = pd.DataFrame({'Actual': y_test,'Predicted': y_pred})\n",
    "\n",
    "print(df)\n",
    "\n",
    "print('Mean Squared Error:', metrics.mean_squared_error(y_test, y_pred))\n",
    "print('Mean Absolute Error:', metrics.mean_absolute_error(y_test, y_pred))\n",
    "metrics.mean_absolute_error(y_test, y_pred) / np.average(y) * 100\n"
   ]
  }
 ],
 "metadata": {
  "kernelspec": {
   "display_name": "Python 3",
   "language": "python",
   "name": "python3"
  },
  "language_info": {
   "codemirror_mode": {
    "name": "ipython",
    "version": 3
   },
   "file_extension": ".py",
   "mimetype": "text/x-python",
   "name": "python",
   "nbconvert_exporter": "python",
   "pygments_lexer": "ipython3",
   "version": "3.11.3"
  },
  "orig_nbformat": 4,
  "vscode": {
   "interpreter": {
    "hash": "8b3424640b024d7c772b21f95b266b3dcac58ebbdc4a7b56b4c4d43b35939d7f"
   }
  }
 },
 "nbformat": 4,
 "nbformat_minor": 2
}
