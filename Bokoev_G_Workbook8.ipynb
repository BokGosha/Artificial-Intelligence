{
 "cells": [
  {
   "cell_type": "code",
   "execution_count": null,
   "metadata": {},
   "outputs": [],
   "source": [
    "import numpy as np\n",
    "import matplotlib.pyplot as plt\n",
    "import seaborn as sns\n",
    "from sklearn.cluster import KMeans\n",
    "import scipy.cluster.hierarchy as shc\n",
    "from sklearn.cluster import AgglomerativeClustering\n",
    "import pandas as pd"
   ]
  },
  {
   "attachments": {},
   "cell_type": "markdown",
   "metadata": {},
   "source": [
    "1.1.1"
   ]
  },
  {
   "cell_type": "code",
   "execution_count": null,
   "metadata": {},
   "outputs": [],
   "source": [
    "sns.set()\n",
    "\n",
    "X = np.array([[5, 3], [10, 15], [15, 12], [24, 10], [30, 45], [85, 70], [71, 80], [60, 78], [55, 52], [80, 91]])\n",
    "\n",
    "kmeans = KMeans(n_clusters=7, random_state=0)\n",
    "clusters = kmeans.fit_predict(X.data)\n",
    "\n",
    "print(kmeans.cluster_centers_.shape)\n",
    "\n",
    "fig, ax = plt.subplots(2, 1, figsize=(20, 10))\n",
    "centers = kmeans.cluster_centers_.reshape(1, 7, 2)\n",
    "for axi, center in zip(ax.flat, centers):\n",
    "    axi.set(xticks=[], yticks=[])\n",
    "    axi.imshow(center, interpolation='nearest', cmap=plt.cm.binary)\n",
    "\n",
    "plt.show()"
   ]
  },
  {
   "cell_type": "code",
   "execution_count": null,
   "metadata": {},
   "outputs": [],
   "source": [
    "sns.set()\n",
    "\n",
    "url = r'https://gist.githubusercontent.com/curran/a08a1080b88344b0c8a7/raw/0e7a9b0a5d22642a06d3d5b9bcbad9890c8ee534/iris.csv'\n",
    "dataset = pd.read_csv(url)\n",
    "arr = np.asarray(dataset.iloc[:, :-1])\n",
    "\n",
    "kmeans = KMeans(n_clusters=150, random_state=0)\n",
    "clusters = kmeans.fit_predict(arr.data)\n",
    "\n",
    "print(kmeans.cluster_centers_.shape)\n",
    "\n",
    "fig, ax = plt.subplots(3, 2, figsize=(20, 10))\n",
    "centers = kmeans.cluster_centers_.reshape(6, 10, 10)\n",
    "for axi, center in zip(ax.flat, centers):\n",
    "    axi.set(xticks=[], yticks=[])\n",
    "    axi.imshow(center, interpolation='nearest', cmap=plt.cm.binary)\n",
    "\n",
    "plt.show()"
   ]
  },
  {
   "attachments": {},
   "cell_type": "markdown",
   "metadata": {},
   "source": [
    "1.1.2"
   ]
  },
  {
   "cell_type": "code",
   "execution_count": null,
   "metadata": {},
   "outputs": [],
   "source": [
    "url1 = r'https://gist.githubusercontent.com/curran/a08a1080b88344b0c8a7/raw/0e7a9b0a5d22642a06d3d5b9bcbad9890c8ee534/iris.csv'\n",
    "dataset1 = pd.read_csv(url)\n",
    "\n",
    "print(dataset1.head(), dataset1.shape)\n",
    "\n",
    "data = dataset1.iloc[:, 1:4].values\n",
    "\n",
    "plt.figure(figsize=(28, 12), dpi=180)\n",
    "plt.figure(figsize=(10, 7))\n",
    "plt.title(\"Iris Dendograms\")\n",
    "dend = shc.dendrogram(shc.linkage(data, method='ward'))\n",
    "\n",
    "cluster = AgglomerativeClustering(n_clusters=10, affinity='euclidean', linkage='ward')\n",
    "cluster.fit_predict(data)\n",
    "\n",
    "plt.figure(figsize=(10, 7))\n",
    "plt.scatter(data[:, 0], data[:, 1], data[:, 2], c=cluster.labels_, cmap='rainbow')\n",
    "\n",
    "plt.show()"
   ]
  }
 ],
 "metadata": {
  "kernelspec": {
   "display_name": "Python 3",
   "language": "python",
   "name": "python3"
  },
  "language_info": {
   "codemirror_mode": {
    "name": "ipython",
    "version": 3
   },
   "file_extension": ".py",
   "mimetype": "text/x-python",
   "name": "python",
   "nbconvert_exporter": "python",
   "pygments_lexer": "ipython3",
   "version": "3.11.3"
  },
  "orig_nbformat": 4,
  "vscode": {
   "interpreter": {
    "hash": "8b3424640b024d7c772b21f95b266b3dcac58ebbdc4a7b56b4c4d43b35939d7f"
   }
  }
 },
 "nbformat": 4,
 "nbformat_minor": 2
}
