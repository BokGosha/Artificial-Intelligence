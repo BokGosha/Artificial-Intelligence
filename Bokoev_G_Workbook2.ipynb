{
 "cells": [
  {
   "attachments": {},
   "cell_type": "markdown",
   "metadata": {},
   "source": [
    "1.3.1"
   ]
  },
  {
   "cell_type": "code",
   "execution_count": null,
   "metadata": {},
   "outputs": [],
   "source": [
    "import numpy as np\n",
    "import pandas as pd\n",
    "from sklearn import preprocessing"
   ]
  },
  {
   "cell_type": "code",
   "execution_count": null,
   "metadata": {},
   "outputs": [],
   "source": [
    "x = np.array([[0, 1] * 4, [1, 0] * 4] * 4)\n",
    "\n",
    "print(x)"
   ]
  },
  {
   "attachments": {},
   "cell_type": "markdown",
   "metadata": {},
   "source": [
    "1.3.2"
   ]
  },
  {
   "cell_type": "code",
   "execution_count": null,
   "metadata": {},
   "outputs": [],
   "source": [
    "x = np.zeros((5, 5))\n",
    "x += np.arange(5)\n",
    "\n",
    "print(x)"
   ]
  },
  {
   "attachments": {},
   "cell_type": "markdown",
   "metadata": {},
   "source": [
    "1.3.3"
   ]
  },
  {
   "cell_type": "code",
   "execution_count": null,
   "metadata": {},
   "outputs": [],
   "source": [
    "x = np.random.sample((3, 3, 3))\n",
    "\n",
    "print(x)"
   ]
  },
  {
   "attachments": {},
   "cell_type": "markdown",
   "metadata": {},
   "source": [
    "1.3.4"
   ]
  },
  {
   "cell_type": "code",
   "execution_count": null,
   "metadata": {},
   "outputs": [],
   "source": [
    "n = 10\n",
    "x = np.zeros((n, n))\n",
    "\n",
    "x[0] = x[-1] = x[:, 0] = x[:, -1] = np.ones(n)\n",
    "\n",
    "print(x)"
   ]
  },
  {
   "attachments": {},
   "cell_type": "markdown",
   "metadata": {},
   "source": [
    "1.3.5"
   ]
  },
  {
   "cell_type": "code",
   "execution_count": null,
   "metadata": {},
   "outputs": [],
   "source": [
    "x = np.array([3, 16, 7, 1, 8, 9, 12])\n",
    "\n",
    "print(np.sort(x)[::-1])"
   ]
  },
  {
   "attachments": {},
   "cell_type": "markdown",
   "metadata": {},
   "source": [
    "1.3.6"
   ]
  },
  {
   "cell_type": "code",
   "execution_count": null,
   "metadata": {},
   "outputs": [],
   "source": [
    "x = np.array([[1, 3, 4], [5, 3, 5], [6, 8, 2]])\n",
    "\n",
    "print(x.shape)\n",
    "print(x.size)\n",
    "print(x.ndim)"
   ]
  },
  {
   "attachments": {},
   "cell_type": "markdown",
   "metadata": {},
   "source": [
    "2.3.1"
   ]
  },
  {
   "cell_type": "code",
   "execution_count": null,
   "metadata": {},
   "outputs": [],
   "source": [
    "s1 = pd.Series([3, 3, 3])\n",
    "s2 = pd.Series([0, 0, 0])\n",
    "\n",
    "a = s1\n",
    "b = s2\n",
    "\n",
    "square = np.square(a - b)\n",
    "sum_square = np.sum(square)\n",
    "distance = np.sqrt(sum_square)\n",
    "\n",
    "print(distance)"
   ]
  },
  {
   "attachments": {},
   "cell_type": "markdown",
   "metadata": {},
   "source": [
    "2.3.2"
   ]
  },
  {
   "cell_type": "code",
   "execution_count": null,
   "metadata": {},
   "outputs": [],
   "source": [
    "url = 'https://raw.githubusercontent.com/akmand/datasets/main/abolone.csv'\n",
    "dataframe = pd.read_csv(url)\n",
    "\n",
    "dataframe.head(5)"
   ]
  },
  {
   "attachments": {},
   "cell_type": "markdown",
   "metadata": {},
   "source": [
    "2.3.3"
   ]
  },
  {
   "cell_type": "code",
   "execution_count": null,
   "metadata": {},
   "outputs": [],
   "source": [
    "url = 'https://raw.githubusercontent.com/akmand/datasets/main/abolone.csv'\n",
    "dataframe = pd.read_csv(url)\n",
    "\n",
    "print(dataframe.head(3))\n",
    "print(dataframe.tail(4))\n",
    "print(dataframe.shape)\n",
    "print(dataframe.describe())\n",
    "print(dataframe.iloc[4:10])\n",
    "print(dataframe[dataframe[\"Gender\"] == \"M\"].head(6))"
   ]
  },
  {
   "attachments": {},
   "cell_type": "markdown",
   "metadata": {},
   "source": [
    "3.3.2"
   ]
  },
  {
   "cell_type": "code",
   "execution_count": null,
   "metadata": {},
   "outputs": [],
   "source": [
    "url = 'https://raw.githubusercontent.com/akmand/datasets/master/iris.csv'\n",
    "dataframe = pd.read_csv(url)\n",
    "\n",
    "x = np.array(dataframe[[\"sepal_length_cm\"]])\n",
    "\n",
    "minmax_scaler = preprocessing.MinMaxScaler(feature_range = (0, 1))\n",
    "scaled_feature1 = minmax_scaler.fit_transform(x)\n",
    "\n",
    "print(scaled_feature1)\n",
    "\n",
    "x1 = np.array(dataframe[[\"sepal_width_cm\"]])\n",
    "\n",
    "scaler = preprocessing.StandardScaler()\n",
    "scaled_feature = scaler.fit_transform(x1)\n",
    "\n",
    "print(scaled_feature)"
   ]
  }
 ],
 "metadata": {
  "kernelspec": {
   "display_name": "Python 3",
   "language": "python",
   "name": "python3"
  },
  "language_info": {
   "codemirror_mode": {
    "name": "ipython",
    "version": 3
   },
   "file_extension": ".py",
   "mimetype": "text/x-python",
   "name": "python",
   "nbconvert_exporter": "python",
   "pygments_lexer": "ipython3",
   "version": "3.11.2"
  },
  "orig_nbformat": 4,
  "vscode": {
   "interpreter": {
    "hash": "8b3424640b024d7c772b21f95b266b3dcac58ebbdc4a7b56b4c4d43b35939d7f"
   }
  }
 },
 "nbformat": 4,
 "nbformat_minor": 2
}
